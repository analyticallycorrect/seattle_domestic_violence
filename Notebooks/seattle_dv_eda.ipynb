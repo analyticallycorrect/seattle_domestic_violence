{
 "cells": [
  {
   "cell_type": "code",
   "execution_count": 1,
   "metadata": {},
   "outputs": [],
   "source": [
    "import pandas as pd\n",
    "import numpy as np\n",
    "\n",
    "import datetime as dt\n",
    "\n",
    "import holidays\n",
    "from calendra.asia import Qatar\n",
    "from calendra.asia import HongKong\n",
    "\n",
    "from pyorbital.moon_phase import moon_phase"
   ]
  },
  {
   "cell_type": "code",
   "execution_count": 213,
   "metadata": {},
   "outputs": [],
   "source": [
    "calls_import = pd.read_csv('../data/Calls_Table_data.csv', delimiter='\\t', encoding='utf-16')"
   ]
  },
  {
   "cell_type": "code",
   "execution_count": 214,
   "metadata": {},
   "outputs": [],
   "source": [
    "calls_full_df = calls_import"
   ]
  },
  {
   "cell_type": "code",
   "execution_count": 216,
   "metadata": {},
   "outputs": [],
   "source": [
    "calls_full_df.drop_duplicates(inplace=True)"
   ]
  },
  {
   "cell_type": "code",
   "execution_count": 217,
   "metadata": {},
   "outputs": [],
   "source": [
    "calls_full_df.reset_index(inplace=True)"
   ]
  },
  {
   "cell_type": "code",
   "execution_count": 218,
   "metadata": {},
   "outputs": [
    {
     "data": {
      "text/plain": [
       "Index(['index', 'BEAT', 'CALL_CODE', 'CALL_DESC', 'CALL GROUP', 'YEAR',\n",
       "       'MAP COLOR', 'CALL VOLUME', 'Current Year Mark', 'Select View',\n",
       "       'Boundary Selection', 'CALL DESCRIPTION', 'CALL CODE', 'Map Selection',\n",
       "       'DAY_ONLY', 'EVENT', 'Geometry (MCPP MAP.shp)', 'Geometry',\n",
       "       'Geometry (BEAT MAP.shp)', 'HOW_RECVD', 'NEIGHBORHOOD',\n",
       "       'Number of Records', 'ORIG_TIME_QUEUED', 'PCT', 'PCT Full', 'PRECINCT',\n",
       "       'Beat', 'first prec (BEAT MAP.shp)', 'Neighborho',\n",
       "       'precinct (MCPP MAP.shp)', 'Precinct', 'sector (BEAT MAP.shp)',\n",
       "       'st area sh (MCPP MAP.shp)', 'St Area Sh', 'st area sh (BEAT MAP.shp)',\n",
       "       'st length  (MCPP MAP.shp)', 'St Length', 'st length  (BEAT MAP.shp)'],\n",
       "      dtype='object')"
      ]
     },
     "execution_count": 218,
     "metadata": {},
     "output_type": "execute_result"
    }
   ],
   "source": [
    "calls_full_df.columns"
   ]
  },
  {
   "cell_type": "code",
   "execution_count": 219,
   "metadata": {},
   "outputs": [],
   "source": [
    "calls_full_df['dt_time'] = pd.to_datetime(calls_full_df['ORIG_TIME_QUEUED'])"
   ]
  },
  {
   "cell_type": "code",
   "execution_count": 220,
   "metadata": {},
   "outputs": [],
   "source": [
    "calls_full_df['date'] = calls_full_df['dt_time'].dt.date"
   ]
  },
  {
   "cell_type": "code",
   "execution_count": 221,
   "metadata": {},
   "outputs": [],
   "source": [
    "calls_full_df['year'] = calls_full_df['dt_time'].dt.year"
   ]
  },
  {
   "cell_type": "code",
   "execution_count": 222,
   "metadata": {},
   "outputs": [],
   "source": [
    "calls_full_df['month'] = calls_full_df['dt_time'].dt.month"
   ]
  },
  {
   "cell_type": "code",
   "execution_count": 223,
   "metadata": {},
   "outputs": [],
   "source": [
    "calls_full_df['day'] = calls_full_df['dt_time'].dt.day"
   ]
  },
  {
   "cell_type": "code",
   "execution_count": 224,
   "metadata": {},
   "outputs": [],
   "source": [
    "calls_full_df['day_of_week'] = calls_full_df['dt_time'].dt.weekday"
   ]
  },
  {
   "cell_type": "code",
   "execution_count": 225,
   "metadata": {},
   "outputs": [],
   "source": [
    "calls_full_df['month_day'] = calls_full_df['dt_time'].dt.strftime('%m/%d')\n",
    "    "
   ]
  },
  {
   "cell_type": "code",
   "execution_count": 224,
   "metadata": {},
   "outputs": [],
   "source": []
  },
  {
   "cell_type": "code",
   "execution_count": 15,
   "metadata": {},
   "outputs": [],
   "source": [
    "class CustomHolidays(holidays.US):\n",
    "    def _populate(self, year):\n",
    "        # Populate the holiday list with the default US holidays\n",
    "        holidays.US._populate(self, year)\n",
    "        # Example: Add Ninja Turtle Day\n",
    "        #self[dt.date(year, 7, 13)] = \"Ninja Turtle Day\"\n",
    "        for year in range(2009, 2030):\n",
    "            # Add Valentine's day\n",
    "            self[dt.date(year, 2, 14)] = \"Valentines Day\"\n",
    "            # Add St Patricks Day\n",
    "            self[dt.date(year, 3, 17)] = \"St Patricks Day\"\n",
    "            # Add Easter\n",
    "            self[holidays.easter(year=year)] = \"Easter\"\n",
    "            # Add Good Friday\n",
    "            self[holidays.easter(year=year)  -  dt.timedelta(days=2)] = \"Good Friday\"\n",
    "            # Add Christmas Eve\n",
    "            self[dt.date(year, 12, 24)] = \"Christmas Eve\"\n",
    "            # Add New Years Eve\n",
    "            self[dt.date(year, 12, 31)] = \"New Years Eve\"\n",
    "            # Add Chinese New Year\n",
    "            chinese = HongKong()\n",
    "            for date, label in chinese.get_chinese_new_year(year):\n",
    "                self[date] = label"
   ]
  },
  {
   "cell_type": "code",
   "execution_count": 61,
   "metadata": {},
   "outputs": [],
   "source": [
    "qatar_holidays = Qatar()\n",
    "class IslamicHolidays(holidays.HolidayBase):\n",
    "    def _populate(self, year):\n",
    "        # Populate the holiday list with blank base holidays\n",
    "        holidays.HolidayBase._populate(self, year)\n",
    "        for year in range(2009, 2030):\n",
    "            days = qatar_holidays.get_calendar_holidays(year)\n",
    "            # Add Ramadan\n",
    "            for i in range(1, len(days)):\n",
    "                if qatar_holidays.get_calendar_holidays(year)[i][1] == 'Start of ramadan':\n",
    "                    for day in range(30):\n",
    "                        self[qatar_holidays.get_calendar_holidays(year)[i][0] + dt.timedelta(days=day-1)] = \"Ramadan\"\n",
    "                else:\n",
    "                    self[qatar_holidays.get_calendar_holidays(2018)[1][0] - dt.timedelta(days=2)] = qatar_holidays.get_calendar_holidays(year)[i][1]\n",
    "                       "
   ]
  },
  {
   "cell_type": "code",
   "execution_count": 17,
   "metadata": {},
   "outputs": [],
   "source": [
    "hebcal_2010 = pd.read_csv('../data/hebcal_2010_usa.csv')\n",
    "hebcal_2015 = pd.read_csv('../data/hebcal_2015_usa.csv')\n",
    "hebcal_2020 = pd.read_csv('../data/hebcal_2020_usa.csv')\n",
    "hebcal_2025 = pd.read_csv('../data/hebcal_2025_usa.csv')\n",
    "\n",
    "hebcal = pd.concat([hebcal_2010, hebcal_2015, hebcal_2020, hebcal_2025])\n",
    "hebcal.reset_index(inplace=True)\n",
    "hebcal['date'] = pd.to_datetime(hebcal[\"Start Date\"]).dt.date"
   ]
  },
  {
   "cell_type": "code",
   "execution_count": 18,
   "metadata": {},
   "outputs": [],
   "source": [
    "class JewishHolidays(holidays.HolidayBase):\n",
    "    def _populate(self, year):\n",
    "        # Populate the holiday list with blank base holidays\n",
    "        holidays.HolidayBase._populate(self, year)\n",
    "        for year in range(2009, 2030):\n",
    "            for i in range(len(hebcal)):\n",
    "                self[hebcal['date'][i]] = hebcal['Subject'][i]           "
   ]
  },
  {
   "cell_type": "code",
   "execution_count": 115,
   "metadata": {},
   "outputs": [],
   "source": [
    "custom_holidays = []\n",
    "for date, name in sorted(CustomHolidays(years=2016).items()):\n",
    "    custom_holidays.append([date, name])\n",
    "\n",
    "custom_holidays = pd.DataFrame(custom_holidays, columns=['date', 'holiday'])"
   ]
  },
  {
   "cell_type": "code",
   "execution_count": 118,
   "metadata": {},
   "outputs": [],
   "source": [
    "calls_full_df = calls_full_df.join(custom_holidays.set_index('date'), on='date')"
   ]
  },
  {
   "cell_type": "code",
   "execution_count": 124,
   "metadata": {},
   "outputs": [
    {
     "name": "stderr",
     "output_type": "stream",
     "text": [
      "/anaconda3/lib/python3.6/site-packages/calendra/core.py:760: UserWarning: Please take note that, due to arbitrary decisions, this Islamic calendar computation may be wrong.\n",
      "  warnings.warn('Please take note that, due to arbitrary decisions, '\n"
     ]
    }
   ],
   "source": [
    "islamic_holidays = []\n",
    "for date, name in sorted(IslamicHolidays(years=2016).items()):\n",
    "    islamic_holidays.append([date, name])\n",
    "\n",
    "islamic_holidays = pd.DataFrame(islamic_holidays, columns=['date', 'islamic_holiday'])"
   ]
  },
  {
   "cell_type": "code",
   "execution_count": null,
   "metadata": {},
   "outputs": [],
   "source": []
  },
  {
   "cell_type": "code",
   "execution_count": 226,
   "metadata": {},
   "outputs": [],
   "source": [
    "calls_full_df = calls_full_df.join(islamic_holidays.set_index('date'), on='date')"
   ]
  },
  {
   "cell_type": "code",
   "execution_count": 126,
   "metadata": {},
   "outputs": [],
   "source": [
    "jewish_holidays = []\n",
    "for date, name in sorted(JewishHolidays(years=2016).items()):\n",
    "    jewish_holidays.append([date, name])\n",
    "\n",
    "jewish_holidays = pd.DataFrame(jewish_holidays, columns=['date', 'jewish_holiday'])"
   ]
  },
  {
   "cell_type": "code",
   "execution_count": null,
   "metadata": {},
   "outputs": [],
   "source": []
  },
  {
   "cell_type": "code",
   "execution_count": 227,
   "metadata": {},
   "outputs": [],
   "source": [
    "calls_full_df = calls_full_df.join(jewish_holidays.set_index('date'), on='date')"
   ]
  },
  {
   "cell_type": "code",
   "execution_count": 19,
   "metadata": {},
   "outputs": [],
   "source": [
    "events = ({\n",
    "    'Pride Parade' : ['6/30/2019', '6/24/2018', '6/25/2017', '6/26/2016', '6/28/2015',\n",
    "                      '6/29/2014', '6/30/2013', '6/24/2012', '6/26/2011', '6/27/2010'],\n",
    "    'Seafair' : ['8/2/2019', '8/3/2019', '8/4/2019', '8/3/2018', '8/4/2018', '8/5/2018',\n",
    "                '8/4/2017', '8/5/2017', '8/6/2017', '8/5/2016', '8/6/2016', '8/7/2016',\n",
    "                '7/31/2015', '8/1/2015', '8/2/2015', '8/1/2014', '8/2/2014', '8/3/2014',\n",
    "                '8/2/2013', '8/3/2013', '8/4/2013', '8/3/2012', '8/4/2012', '8/5/2012',\n",
    "                '8/5/2011', '8/6/2011', '8/7/2011', '8/6/2010', '8/7/2010', '8/8/2010' ],\n",
    "    'Soltice Parade': ['6/30/2019', '6/16/2018', '6/17/2017', '6/18/2016', '6/20/2015',\n",
    "                      '6/21/2014', '6/22/2013', '6/16/2012', '6/18/2011', '6/19/2010'],\n",
    "    'Womens March' : ['1/19/2019', '1/20/2018', '1/21/2017'],\n",
    "})"
   ]
  },
  {
   "cell_type": "code",
   "execution_count": 254,
   "metadata": {},
   "outputs": [],
   "source": [
    "seattle_events = []\n",
    "for event in events.keys():\n",
    "    for day in events[event]:\n",
    "        seattle_events.append([dt.datetime.strptime(day, '%m/%d/%Y'), event])\n",
    "seattle_events = pd.DataFrame(seattle_events, columns=['date','local_event'])\n",
    "seattle_events['date'] = seattle_events['date'].dt.date"
   ]
  },
  {
   "cell_type": "code",
   "execution_count": null,
   "metadata": {},
   "outputs": [],
   "source": []
  },
  {
   "cell_type": "code",
   "execution_count": 257,
   "metadata": {
    "scrolled": true
   },
   "outputs": [],
   "source": [
    "calls_full_df = calls_full_df.join(seattle_events.set_index('date'), on='date')"
   ]
  },
  {
   "cell_type": "code",
   "execution_count": 229,
   "metadata": {
    "scrolled": true
   },
   "outputs": [],
   "source": [
    "calls_full_df['full_moon'] = moon_phase(calls_full_df['date'].values)>.99\n",
    "calls_full_df['new_moon'] = moon_phase(calls_full_df['date'].values)<.01"
   ]
  },
  {
   "cell_type": "code",
   "execution_count": 230,
   "metadata": {},
   "outputs": [],
   "source": [
    "weather_import = pd.read_csv('../data/historical_weather.csv')\n",
    "weather_import['date'] = pd.to_datetime(weather_import['DATE']).dt.date"
   ]
  },
  {
   "cell_type": "code",
   "execution_count": 231,
   "metadata": {},
   "outputs": [],
   "source": [
    "weather_hist = (weather_import[['date', 'TMIN', 'TMAX', 'PRCP', 'SNOW']]\n",
    "                .rename(columns={'PRCP':'precip', 'TMIN':'temp_min', 'TMAX':'temp_max',\n",
    "                                 'PRCP':'precip', 'SNOW':'snow'}))"
   ]
  },
  {
   "cell_type": "code",
   "execution_count": 232,
   "metadata": {},
   "outputs": [],
   "source": [
    "weather_hist['precip^2'] = weather_hist['precip']**2\n",
    "weather_hist['snow^2'] = weather_hist['snow']**2"
   ]
  },
  {
   "cell_type": "code",
   "execution_count": 233,
   "metadata": {},
   "outputs": [],
   "source": [
    "calls_full_df = calls_full_df.join(weather_hist.set_index('date'), on='date')"
   ]
  },
  {
   "cell_type": "code",
   "execution_count": 258,
   "metadata": {
    "scrolled": true
   },
   "outputs": [
    {
     "name": "stdout",
     "output_type": "stream",
     "text": [
      "<class 'pandas.core.frame.DataFrame'>\n",
      "RangeIndex: 96208 entries, 0 to 96207\n",
      "Data columns (total 56 columns):\n",
      "index                        96208 non-null int64\n",
      "BEAT                         96208 non-null object\n",
      "CALL_CODE                    96208 non-null object\n",
      "CALL_DESC                    96208 non-null object\n",
      "CALL GROUP                   96208 non-null object\n",
      "YEAR                         96208 non-null int64\n",
      "MAP COLOR                    96036 non-null object\n",
      "CALL VOLUME                  96208 non-null int64\n",
      "Current Year Mark            96208 non-null object\n",
      "Select View                  96208 non-null object\n",
      "Boundary Selection           96208 non-null object\n",
      "CALL DESCRIPTION             96208 non-null object\n",
      "CALL CODE                    96208 non-null object\n",
      "Map Selection                96036 non-null object\n",
      "DAY_ONLY                     96208 non-null object\n",
      "EVENT                        96208 non-null int64\n",
      "Geometry (MCPP MAP.shp)      96036 non-null object\n",
      "Geometry                     96049 non-null object\n",
      "Geometry (BEAT MAP.shp)      96050 non-null object\n",
      "HOW_RECVD                    96208 non-null object\n",
      "NEIGHBORHOOD                 96208 non-null object\n",
      "Number of Records            96208 non-null int64\n",
      "ORIG_TIME_QUEUED             96208 non-null object\n",
      "PCT                          96049 non-null object\n",
      "PCT Full                     96049 non-null object\n",
      "PRECINCT                     96208 non-null object\n",
      "Beat                         96050 non-null object\n",
      "first prec (BEAT MAP.shp)    96049 non-null object\n",
      "Neighborho                   96036 non-null object\n",
      "precinct (MCPP MAP.shp)      96036 non-null object\n",
      "Precinct                     96049 non-null object\n",
      "sector (BEAT MAP.shp)        96050 non-null object\n",
      "st area sh (MCPP MAP.shp)    96036 non-null float64\n",
      "St Area Sh                   96049 non-null float64\n",
      "st area sh (BEAT MAP.shp)    96050 non-null float64\n",
      "st length  (MCPP MAP.shp)    96036 non-null float64\n",
      "St Length                    96049 non-null float64\n",
      "st length  (BEAT MAP.shp)    96050 non-null float64\n",
      "dt_time                      96208 non-null datetime64[ns]\n",
      "date                         96208 non-null object\n",
      "year                         96208 non-null int64\n",
      "month                        96208 non-null int64\n",
      "day                          96208 non-null int64\n",
      "day_of_week                  96208 non-null int64\n",
      "month_day                    96208 non-null object\n",
      "islamic_holiday              8640 non-null object\n",
      "jewish_holiday               10257 non-null object\n",
      "full_moon                    96208 non-null bool\n",
      "new_moon                     96208 non-null bool\n",
      "temp_min                     96208 non-null int64\n",
      "temp_max                     96208 non-null int64\n",
      "precip                       96208 non-null float64\n",
      "snow                         96208 non-null float64\n",
      "precip^2                     96208 non-null float64\n",
      "snow^2                       96208 non-null float64\n",
      "local_event                  1595 non-null object\n",
      "dtypes: bool(2), datetime64[ns](1), float64(10), int64(11), object(32)\n",
      "memory usage: 39.8+ MB\n"
     ]
    }
   ],
   "source": [
    "calls_full_df.info()"
   ]
  },
  {
   "cell_type": "code",
   "execution_count": 315,
   "metadata": {},
   "outputs": [],
   "source": [
    "seahawks_schedule = pd.read_csv('../data/seahawks_schedule.csv')\n",
    "huskies_schedule = pd.read_csv('../data/huskies_schedule.csv')\n",
    "sounders_schedule = pd.read_csv('../data/sounders_schedule.csv')"
   ]
  },
  {
   "cell_type": "code",
   "execution_count": 317,
   "metadata": {},
   "outputs": [
    {
     "data": {
      "text/plain": [
       "Index(['Unnamed: 0', 'year', 'Week', 'Day', 'Date', 'Unnamed: 5', 'Unnamed: 6',\n",
       "       'Unnamed: 7', 'OT', 'Rec', 'Unnamed: 10', 'Opp'],\n",
       "      dtype='object')"
      ]
     },
     "execution_count": 317,
     "metadata": {},
     "output_type": "execute_result"
    }
   ],
   "source": [
    "seahawks_schedule.columns"
   ]
  },
  {
   "cell_type": "code",
   "execution_count": 370,
   "metadata": {},
   "outputs": [],
   "source": [
    "seahawks_schedule = seahawks_schedule[seahawks_schedule['Opp'].notna()]\n",
    "seahawks_schedule.reset_index(drop=True)\n",
    "seahawks_schedule = seahawks_schedule[seahawks_schedule['Opp'] != 'Bye Week']\n",
    "seahawks_schedule = seahawks_schedule.reset_index(drop=True)"
   ]
  },
  {
   "cell_type": "code",
   "execution_count": 376,
   "metadata": {
    "scrolled": true
   },
   "outputs": [
    {
     "name": "stderr",
     "output_type": "stream",
     "text": [
      "/anaconda3/lib/python3.6/site-packages/ipykernel_launcher.py:4: SettingWithCopyWarning: \n",
      "A value is trying to be set on a copy of a slice from a DataFrame\n",
      "\n",
      "See the caveats in the documentation: http://pandas.pydata.org/pandas-docs/stable/indexing.html#indexing-view-versus-copy\n",
      "  after removing the cwd from sys.path.\n"
     ]
    }
   ],
   "source": [
    "seahawks_schedule['date'] = ''\n",
    "\n",
    "for i in range(len(seahawks_schedule)):\n",
    "    seahawks_schedule['date'][i] = (f\"{seahawks_schedule.iloc[i]['Date']}, {seahawks_schedule.iloc[i]['year']}\")"
   ]
  },
  {
   "cell_type": "code",
   "execution_count": 382,
   "metadata": {},
   "outputs": [],
   "source": [
    "seahawks_schedule['date'] = pd.to_datetime(seahawks_schedule['date']).dt.date"
   ]
  },
  {
   "cell_type": "code",
   "execution_count": null,
   "metadata": {
    "scrolled": true
   },
   "outputs": [],
   "source": []
  },
  {
   "cell_type": "code",
   "execution_count": 388,
   "metadata": {
    "scrolled": true
   },
   "outputs": [
    {
     "data": {
      "text/plain": [
       "array(['1', '2', '3', '4', '6', '7', '8', '9', '10', '11', '12', '13',\n",
       "       '14', '15', '16', '17', 'Wild Card', 'Division', '5',\n",
       "       'Conf. Champ.', 'SuperBowl'], dtype=object)"
      ]
     },
     "execution_count": 388,
     "metadata": {},
     "output_type": "execute_result"
    }
   ],
   "source": [
    "seahawks_schedule['Week'].unique()"
   ]
  },
  {
   "cell_type": "code",
   "execution_count": 419,
   "metadata": {},
   "outputs": [
    {
     "name": "stderr",
     "output_type": "stream",
     "text": [
      "/anaconda3/lib/python3.6/site-packages/ipykernel_launcher.py:16: SettingWithCopyWarning: \n",
      "A value is trying to be set on a copy of a slice from a DataFrame\n",
      "\n",
      "See the caveats in the documentation: http://pandas.pydata.org/pandas-docs/stable/indexing.html#indexing-view-versus-copy\n",
      "  app.launch_new_instance()\n",
      "/anaconda3/lib/python3.6/site-packages/ipykernel_launcher.py:9: SettingWithCopyWarning: \n",
      "A value is trying to be set on a copy of a slice from a DataFrame\n",
      "\n",
      "See the caveats in the documentation: http://pandas.pydata.org/pandas-docs/stable/indexing.html#indexing-view-versus-copy\n",
      "  if __name__ == '__main__':\n",
      "/anaconda3/lib/python3.6/site-packages/ipykernel_launcher.py:14: SettingWithCopyWarning: \n",
      "A value is trying to be set on a copy of a slice from a DataFrame\n",
      "\n",
      "See the caveats in the documentation: http://pandas.pydata.org/pandas-docs/stable/indexing.html#indexing-view-versus-copy\n",
      "  \n",
      "/anaconda3/lib/python3.6/site-packages/ipykernel_launcher.py:7: SettingWithCopyWarning: \n",
      "A value is trying to be set on a copy of a slice from a DataFrame\n",
      "\n",
      "See the caveats in the documentation: http://pandas.pydata.org/pandas-docs/stable/indexing.html#indexing-view-versus-copy\n",
      "  import sys\n",
      "/anaconda3/lib/python3.6/site-packages/ipykernel_launcher.py:5: SettingWithCopyWarning: \n",
      "A value is trying to be set on a copy of a slice from a DataFrame\n",
      "\n",
      "See the caveats in the documentation: http://pandas.pydata.org/pandas-docs/stable/indexing.html#indexing-view-versus-copy\n",
      "  \"\"\"\n"
     ]
    }
   ],
   "source": [
    "seahawks_schedule['seahawks_game'] = ''\n",
    "for i in range(len(seahawks_schedule)):\n",
    "    if type(seahawks_schedule.iloc[i]['Unnamed: 10']) == str:\n",
    "        if seahawks_schedule.iloc[i]['Week'] == 'SuperBowl':\n",
    "            seahawks_schedule['seahawks_game'][i] = 'SuperBowl'\n",
    "        elif seahawks_schedule.iloc[i]['Week'] in ['Wild Card', 'Division','Conf. Champ.']:\n",
    "            seahawks_schedule['seahawks_game'][i] = 'away_Playoffs'\n",
    "        else:\n",
    "            seahawks_schedule['seahawks_game'][i] = 'away_Regular'\n",
    "    else:     \n",
    "        if seahawks_schedule.iloc[i]['Week'] == 'SuperBowl':\n",
    "            seahawks_schedule['seahawks_game'][i] = 'SuperBowl'\n",
    "        elif seahawks_schedule.iloc[i]['Week'] in ['Wild Card', 'Division','Conf. Champ.']:\n",
    "            seahawks_schedule['seahawks_game'][i] = 'home_Playoffs'\n",
    "        else:\n",
    "            seahawks_schedule['seahawks_game'][i] = 'home_Regular'"
   ]
  },
  {
   "cell_type": "code",
   "execution_count": null,
   "metadata": {},
   "outputs": [],
   "source": []
  },
  {
   "cell_type": "code",
   "execution_count": 423,
   "metadata": {
    "scrolled": true
   },
   "outputs": [],
   "source": [
    "calls_full_df = calls_full_df.join(seahawks_schedule[['date','seahawks_game']].set_index('date'), on='date')"
   ]
  },
  {
   "cell_type": "code",
   "execution_count": null,
   "metadata": {},
   "outputs": [],
   "source": []
  },
  {
   "cell_type": "code",
   "execution_count": 431,
   "metadata": {},
   "outputs": [],
   "source": [
    "huskies_schedule['date'] = pd.to_datetime(huskies_schedule['Date']).dt.date"
   ]
  },
  {
   "cell_type": "code",
   "execution_count": 436,
   "metadata": {},
   "outputs": [
    {
     "name": "stderr",
     "output_type": "stream",
     "text": [
      "/anaconda3/lib/python3.6/site-packages/ipykernel_launcher.py:4: SettingWithCopyWarning: \n",
      "A value is trying to be set on a copy of a slice from a DataFrame\n",
      "\n",
      "See the caveats in the documentation: http://pandas.pydata.org/pandas-docs/stable/indexing.html#indexing-view-versus-copy\n",
      "  after removing the cwd from sys.path.\n",
      "/anaconda3/lib/python3.6/site-packages/ipykernel_launcher.py:6: SettingWithCopyWarning: \n",
      "A value is trying to be set on a copy of a slice from a DataFrame\n",
      "\n",
      "See the caveats in the documentation: http://pandas.pydata.org/pandas-docs/stable/indexing.html#indexing-view-versus-copy\n",
      "  \n"
     ]
    }
   ],
   "source": [
    "huskies_schedule['huskies_game'] = ''\n",
    "for i in range(len(huskies_schedule)):\n",
    "    if type(huskies_schedule.iloc[i]['Unnamed: 6']) == str:\n",
    "        huskies_schedule['huskies_game'][i] = 'away'\n",
    "    else:\n",
    "        huskies_schedule['huskies_game'][i] = 'home'"
   ]
  },
  {
   "cell_type": "code",
   "execution_count": 438,
   "metadata": {},
   "outputs": [],
   "source": [
    "calls_full_df = calls_full_df.join(huskies_schedule[['date','huskies_game']].set_index('date'), on='date')"
   ]
  },
  {
   "cell_type": "code",
   "execution_count": null,
   "metadata": {},
   "outputs": [],
   "source": []
  },
  {
   "cell_type": "code",
   "execution_count": 443,
   "metadata": {},
   "outputs": [],
   "source": [
    "sounders_schedule['date'] = pd.to_datetime(sounders_schedule['date_dd_mm_yy']).dt.date"
   ]
  },
  {
   "cell_type": "code",
   "execution_count": 450,
   "metadata": {},
   "outputs": [],
   "source": [
    "sounders_schedule['sounders_game'] = ''\n",
    "for i in range(len(sounders_schedule)):\n",
    "    if sounders_schedule['home_team'][i].split()[0] == 'Seattle':\n",
    "        sounders_schedule['sounders_game'][i] = 'home'\n",
    "    else:\n",
    "        sounders_schedule['sounders_game'][i] = 'away'"
   ]
  },
  {
   "cell_type": "code",
   "execution_count": 452,
   "metadata": {},
   "outputs": [],
   "source": [
    "calls_full_df = calls_full_df.join(sounders_schedule[['date','sounders_game']].set_index('date'), on='date')"
   ]
  },
  {
   "cell_type": "code",
   "execution_count": null,
   "metadata": {},
   "outputs": [],
   "source": []
  }
 ],
 "metadata": {
  "kernelspec": {
   "display_name": "Python 3",
   "language": "python",
   "name": "python3"
  }
 },
 "nbformat": 4,
 "nbformat_minor": 2
}
