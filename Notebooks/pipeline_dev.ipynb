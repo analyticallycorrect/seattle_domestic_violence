{
 "cells": [
  {
   "cell_type": "code",
   "execution_count": 27,
   "metadata": {},
   "outputs": [],
   "source": [
    "import pandas as pd\n",
    "import numpy as np\n",
    "\n",
    "import datetime as dt"
   ]
  },
  {
   "cell_type": "code",
   "execution_count": 3,
   "metadata": {},
   "outputs": [],
   "source": [
    "calls_import = pd.read_csv('../data/Calls_Table_data.csv', delimiter='\\t', encoding='utf-16')"
   ]
  },
  {
   "cell_type": "code",
   "execution_count": 46,
   "metadata": {},
   "outputs": [],
   "source": [
    "import pandas as pd\n",
    "import numpy as np\n",
    "import datetime as dt\n",
    "\n",
    "class DataRetrieval():\n",
    "    \n",
    "    #def __init__(self):\n",
    "\n",
    "    \n",
    "    def get_calls_data(self, filepath='../data/Calls_Table_data.csv', delimiter='\\t'):\n",
    "        \"\"\"Retrieves call data from filepath\"\"\"\n",
    "        df = pd.read_csv(filepath, delimiter='\\t', encoding='utf-16')\n",
    "        df.drop_duplicates(inplace=True)\n",
    "        df.reset_index(drop=True, inplace=True)        \n",
    "        return df\n",
    "    \n",
    "    \n",
    "    \n",
    "class FeaturizeCalls():\n",
    "    \"\"\"Clean incoming df to fit into model\"\"\"\n",
    "    \n",
    "    #def __init__(self):\n",
    "    \n",
    "    def fit(self, df, y=None):\n",
    "        self.df = df\n",
    "        return self\n",
    "\n",
    "    \n",
    "    def transform(self, dataframe):\n",
    "        \"\"\"tranform and clean incoming training or test\"\"\"\n",
    "        df = dataframe.copy()        \n",
    "\n",
    "        df['dt_time'] = pd.to_datetime(df['ORIG_TIME_QUEUED'])\n",
    "        df['date'] = df['dt_time'].dt.date\n",
    "        df['year'] = df['dt_time'].dt.year\n",
    "        df['month'] = df['dt_time'].dt.month\n",
    "        df['day'] = df['dt_time'].dt.day\n",
    "        df['day_of_week'] = df['dt_time'].dt.weekday\n",
    "        df['month_day'] = df['dt_time'].dt.strftime('%m/%d')\n",
    "        df['month_weekday'] = df['dt_time'].dt.strftime('%b_%a')\n",
    "        df['month'] = df['dt_time'].dt.strftime('%m/%d')        \n",
    "        return df\n"
   ]
  },
  {
   "cell_type": "code",
   "execution_count": null,
   "metadata": {},
   "outputs": [],
   "source": []
  },
  {
   "cell_type": "code",
   "execution_count": 56,
   "metadata": {},
   "outputs": [],
   "source": [
    "retriever = DataRetrieval()"
   ]
  },
  {
   "cell_type": "code",
   "execution_count": 57,
   "metadata": {},
   "outputs": [],
   "source": [
    "df = retriever.get_calls_data()"
   ]
  },
  {
   "cell_type": "code",
   "execution_count": 58,
   "metadata": {},
   "outputs": [],
   "source": [
    "cf = FeaturizeCalls()"
   ]
  },
  {
   "cell_type": "code",
   "execution_count": 59,
   "metadata": {},
   "outputs": [
    {
     "data": {
      "text/plain": [
       "<__main__.FeaturizeCalls at 0x15c483dd8>"
      ]
     },
     "execution_count": 59,
     "metadata": {},
     "output_type": "execute_result"
    }
   ],
   "source": [
    "cf.fit(df)"
   ]
  },
  {
   "cell_type": "code",
   "execution_count": 60,
   "metadata": {},
   "outputs": [
    {
     "ename": "TypeError",
     "evalue": "transform() missing 1 required positional argument: 'dataframe'",
     "output_type": "error",
     "traceback": [
      "\u001b[0;31m---------------------------------------------------------------------------\u001b[0m",
      "\u001b[0;31mTypeError\u001b[0m                                 Traceback (most recent call last)",
      "\u001b[0;32m<ipython-input-60-62d0a3106f4d>\u001b[0m in \u001b[0;36m<module>\u001b[0;34m()\u001b[0m\n\u001b[0;32m----> 1\u001b[0;31m \u001b[0mcf\u001b[0m\u001b[0;34m.\u001b[0m\u001b[0mtransform\u001b[0m\u001b[0;34m(\u001b[0m\u001b[0;34m)\u001b[0m\u001b[0;34m\u001b[0m\u001b[0m\n\u001b[0m",
      "\u001b[0;31mTypeError\u001b[0m: transform() missing 1 required positional argument: 'dataframe'"
     ]
    }
   ],
   "source": [
    "cf.transform()"
   ]
  },
  {
   "cell_type": "code",
   "execution_count": null,
   "metadata": {},
   "outputs": [],
   "source": [
    "\"\"\"calls_full_df = calls_import\n",
    "\n",
    "df.drop_duplicates(inplace=True)\n",
    "\n",
    "df.reset_index(inplace=True)\n",
    "\n",
    "df.columns\n",
    "\n",
    "df['dt_time'] = pd.to_datetime(calls_full_df['ORIG_TIME_QUEUED'])\n",
    "\n",
    "df['date'] = calls_full_df['dt_time'].dt.date\n",
    "\n",
    "df['year'] = calls_full_df['dt_time'].dt.year\n",
    "\n",
    "df['month'] = calls_full_df['dt_time'].dt.month\n",
    "\n",
    "df['day'] = calls_full_df['dt_time'].dt.day\n",
    "\n",
    "df['day_of_week'] = calls_full_df['dt_time'].dt.weekday\n",
    "\n",
    "df['month_day'] = calls_full_df['dt_time'].dt.strftime('%m/%d')\n",
    "    \n",
    "\n",
    "df['month_weekday'] = calls_full_df['dt_time'].dt.strftime('%b_%a')\n",
    "\n",
    "df['month'] = calls_full_df['dt_time'].dt.strftime('%m/%d')\"\"\""
   ]
  }
 ],
 "metadata": {
  "kernelspec": {
   "display_name": "Python 3",
   "language": "python",
   "name": "python3"
  },
  "language_info": {
   "codemirror_mode": {
    "name": "ipython",
    "version": 3
   },
   "file_extension": ".py",
   "mimetype": "text/x-python",
   "name": "python",
   "nbconvert_exporter": "python",
   "pygments_lexer": "ipython3",
   "version": "3.6.5"
  }
 },
 "nbformat": 4,
 "nbformat_minor": 2
}
